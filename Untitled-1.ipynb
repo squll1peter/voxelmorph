{
 "cells": [
  {
   "cell_type": "code",
   "execution_count": 1,
   "metadata": {},
   "outputs": [
    {
     "name": "stderr",
     "output_type": "stream",
     "text": [
      "2023-05-01 10:42:51.209843: I tensorflow/core/util/port.cc:110] oneDNN custom operations are on. You may see slightly different numerical results due to floating-point round-off errors from different computation orders. To turn them off, set the environment variable `TF_ENABLE_ONEDNN_OPTS=0`.\n",
      "2023-05-01 10:42:51.440845: I tensorflow/core/platform/cpu_feature_guard.cc:182] This TensorFlow binary is optimized to use available CPU instructions in performance-critical operations.\n",
      "To enable the following instructions: AVX2 AVX512F AVX512_VNNI FMA, in other operations, rebuild TensorFlow with the appropriate compiler flags.\n",
      "2023-05-01 10:43:05.266655: E tensorflow/compiler/xla/stream_executor/cuda/cuda_driver.cc:266] failed call to cuInit: CUDA_ERROR_NO_DEVICE: no CUDA-capable device is detected\n"
     ]
    },
    {
     "name": "stdout",
     "output_type": "stream",
     "text": [
      "loading synmorph model...\n",
      "Registering grid#1/25\n"
     ]
    },
    {
     "name": "stderr",
     "output_type": "stream",
     "text": [
      "/usr/local/lib/python3.8/dist-packages/tensorflow/python/data/ops/structured_function.py:254: UserWarning: Even though the `tf.config.experimental_run_functions_eagerly` option is set, this option does not apply to tf.data functions. To force eager execution of tf.data functions, please use `tf.data.experimental.enable_debug_mode()`.\n",
      "  warnings.warn(\n"
     ]
    },
    {
     "name": "stdout",
     "output_type": "stream",
     "text": [
      "1/1 [==============================] - 5s 5s/step\n",
      "Registering grid#2/25\n",
      "1/1 [==============================] - 4s 4s/step\n",
      "Registering grid#3/25\n"
     ]
    }
   ],
   "source": [
    "from register_and_evaluate import register128\n",
    "moving_pth = \"data/C+_filled.nii.gz\"\n",
    "fixed_pth  = \"data/C-_filled.nii.gz\"\n",
    "moved_pth  = \"data/C+_filled_shrink_moved.nii.gz\"\n",
    "warp_pth   = \"data/C+_filled_shrink_warp.nii.gz\"\n",
    "model      = \"models/02000.h5\"\n",
    "register128(moving_pth, fixed_pth, moved_pth, model, warp_pth=warp_pth, gpu=None, \n",
    "                multichannel=False, method=\"shrink\")"
   ]
  },
  {
   "cell_type": "code",
   "execution_count": 19,
   "metadata": {},
   "outputs": [],
   "source": [
    "import nibabel as nib\n",
    "import numpy as np\n",
    "warp_pth   = \"data/C+_filled_shrink_warp.nii.gz\"\n",
    "fixed_pth  = \"data/C-_filled.nii.gz\"\n",
    "warp = nib.load(warp_pth)\n",
    "fixed = nib.load(fixed_pth)\n",
    "warp_img = np.asanyarray(warp.dataobj)\n",
    "nib.save(nib.Nifti1Image(warp_img, fixed.affine, fixed.header), \"data/C+_filled_shrink_warp_fix.nii.gz\")\n"
   ]
  },
  {
   "cell_type": "code",
   "execution_count": 23,
   "metadata": {},
   "outputs": [
    {
     "name": "stdout",
     "output_type": "stream",
     "text": [
      "<class 'nibabel.nifti1.Nifti1Header'> object, endian='<'\n",
      "sizeof_hdr      : 348\n",
      "data_type       : b''\n",
      "db_name         : b''\n",
      "extents         : 0\n",
      "session_error   : 0\n",
      "regular         : b'r'\n",
      "dim_info        : 0\n",
      "dim             : [  3 512 512  85   1   1   1   1]\n",
      "intent_p1       : 0.0\n",
      "intent_p2       : 0.0\n",
      "intent_p3       : 0.0\n",
      "intent_code     : none\n",
      "datatype        : float32\n",
      "bitpix          : 32\n",
      "slice_start     : 0\n",
      "pixdim          : [-1.        0.626953  0.626953  5.        0.        0.        0.\n",
      "  0.      ]\n",
      "vox_offset      : 0.0\n",
      "scl_slope       : nan\n",
      "scl_inter       : nan\n",
      "slice_end       : 0\n",
      "slice_code      : unknown\n",
      "xyzt_units      : 2\n",
      "cal_max         : 0.0\n",
      "cal_min         : 0.0\n",
      "slice_duration  : 0.0\n",
      "toffset         : 0.0\n",
      "glmax           : 0\n",
      "glmin           : 0\n",
      "descrip         : b''\n",
      "aux_file        : b''\n",
      "qform_code      : scanner\n",
      "sform_code      : scanner\n",
      "quatern_b       : -0.0\n",
      "quatern_c       : 1.0\n",
      "quatern_d       : 0.0\n",
      "qoffset_x       : 144.8\n",
      "qoffset_y       : -194.37299\n",
      "qoffset_z       : -450.0\n",
      "srow_x          : [ -0.626953  -0.         0.       144.8     ]\n",
      "srow_y          : [  -0.          0.626953   -0.       -194.37299 ]\n",
      "srow_z          : [   0.    0.    5. -450.]\n",
      "intent_name     : b''\n",
      "magic           : b'n+1'\n"
     ]
    }
   ],
   "source": [
    "fix = nib.load(\"data/C+_filled_shrink_warp_fix.nii.gz\")\n",
    "print(fixed.header)"
   ]
  }
 ],
 "metadata": {
  "kernelspec": {
   "display_name": "Python 3",
   "language": "python",
   "name": "python3"
  },
  "language_info": {
   "codemirror_mode": {
    "name": "ipython",
    "version": 3
   },
   "file_extension": ".py",
   "mimetype": "text/x-python",
   "name": "python",
   "nbconvert_exporter": "python",
   "pygments_lexer": "ipython3",
   "version": "3.8.10"
  },
  "orig_nbformat": 4
 },
 "nbformat": 4,
 "nbformat_minor": 2
}
